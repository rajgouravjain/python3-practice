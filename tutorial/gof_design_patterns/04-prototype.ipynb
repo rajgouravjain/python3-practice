{
 "cells": [
  {
   "cell_type": "code",
   "execution_count": 59,
   "metadata": {},
   "outputs": [],
   "source": [
    "from abc import ABC, abstractmethod\n",
    "\n",
    "class IPrototype(ABC):\n",
    "    @staticmethod\n",
    "    @abstractmethod\n",
    "    def copy():\n",
    "        pass"
   ]
  },
  {
   "cell_type": "code",
   "execution_count": 60,
   "metadata": {},
   "outputs": [],
   "source": [
    "from copy import deepcopy\n",
    "from copy import copy\n",
    "\n",
    "class Document(IPrototype):\n",
    "    def __init__(self,name,docs):\n",
    "        self.docs = docs\n",
    "        self.name = name\n",
    "    def copy(self,mode):\n",
    "        \n",
    "        ##Doesnt copy instead reference same object\n",
    "        if mode == 1:\n",
    "            name = self.name\n",
    "            docs = self.docs\n",
    "        \n",
    "        ##Copies but nested objects are still referencing same object\n",
    "        if mode == 2:\n",
    "            name = copy(self.name)\n",
    "            docs = copy(self.docs)\n",
    "        \n",
    "        ##Creates a true copy. Always use deepcopy to copy objects\n",
    "        if mode == 3: \n",
    "            name = deepcopy(self.name)\n",
    "            docs = deepcopy(self.docs)\n",
    "        \n",
    "        return type(self)(name,docs)"
   ]
  },
  {
   "cell_type": "code",
   "execution_count": 72,
   "metadata": {},
   "outputs": [],
   "source": [
    "import pytest\n",
    "import unittest\n",
    "\n",
    "class DocumentTest(unittest.TestCase):\n",
    "    def test_mode1_name(self):\n",
    "        d1 = Document(\"d1\", [\"hello\",\"hi\"])\n",
    "        d2 = d1.copy(mode=1)\n",
    "        assert d1.name == d2.name\n",
    "\n",
    "        d1.name = \"d0\"\n",
    "        assert d1.name != d2.name\n",
    "\n",
    "    def test_mode1_docs(self):\n",
    "        d1 = Document(\"d1\", [\"hello\",\"hi\"])\n",
    "        d2 = d1.copy(mode=1)\n",
    "        \n",
    "        d1.docs[1] = \"bye\"\n",
    "        \n",
    "        #The asserstion will fail\n",
    "        assert d2.docs != d1.docs\n",
    "        \n",
    "    def test_mode2_name(self):\n",
    "        d1 = Document(\"d1\", [[\"hello\", \"hi\"],\"bye\"])\n",
    "        d2 = d1.copy(mode=2)\n",
    "        assert d1.name == d2.name\n",
    "        \n",
    "        d1.name = \"d0\"\n",
    "        assert d1.name != d2.name\n",
    "        \n",
    "    def test_mode2_docs(self):\n",
    "        d1 = Document(\"d1\", [[\"hello\", \"hi\"],\"bye\"])\n",
    "        d2 = d1.copy(mode=2)\n",
    "        \n",
    "        assert d2.docs == [[\"hello\",\"hi\"],\"bye\"]\n",
    "        \n",
    "        d1.docs[0][1] = \"bye\"\n",
    "        #The assersion will fail\n",
    "        assert d2.docs != d1.docs\n",
    "\n",
    "    def test_mode3_name(self):\n",
    "        d1 = Document(\"d1\", [[\"hello\", \"hi\"],\"bye\"])\n",
    "        d2 = d1.copy(mode=3)\n",
    "        assert d1.name == d2.name\n",
    "        \n",
    "        d1.name = \"d0\"\n",
    "        assert d1.name != d2.name\n",
    "    \n",
    "    def test_mode3_docs(self):\n",
    "        d1 = Document(\"d1\", [[\"hello\", \"hi\"],\"bye\"])\n",
    "        d2 = d1.copy(mode=3)\n",
    "        assert d1.docs == d2.docs\n",
    "        assert d2.docs == [[\"hello\",\"hi\"],\"bye\"]\n",
    "        \n",
    "        d1.docs[0][1] = \"bye\"\n",
    "        assert d1.docs != d2.docs\n",
    "        assert d2.docs == [[\"hello\",\"hi\"],\"bye\"]"
   ]
  },
  {
   "cell_type": "code",
   "execution_count": 73,
   "metadata": {},
   "outputs": [
    {
     "name": "stderr",
     "output_type": "stream",
     "text": [
      "test_mode1_docs (__main__.DocumentTest) ... FAIL\n",
      "test_mode1_name (__main__.DocumentTest) ... ok\n",
      "test_mode2_docs (__main__.DocumentTest) ... FAIL\n",
      "test_mode2_name (__main__.DocumentTest) ... ok\n",
      "test_mode3_docs (__main__.DocumentTest) ... ok\n",
      "test_mode3_name (__main__.DocumentTest) ... ok\n",
      "\n",
      "======================================================================\n",
      "FAIL: test_mode1_docs (__main__.DocumentTest)\n",
      "----------------------------------------------------------------------\n",
      "Traceback (most recent call last):\n",
      "  File \"<ipython-input-72-e1c1d552fa52>\", line 20, in test_mode1_docs\n",
      "    assert d2.docs != d1.docs\n",
      "AssertionError\n",
      "\n",
      "======================================================================\n",
      "FAIL: test_mode2_docs (__main__.DocumentTest)\n",
      "----------------------------------------------------------------------\n",
      "Traceback (most recent call last):\n",
      "  File \"<ipython-input-72-e1c1d552fa52>\", line 39, in test_mode2_docs\n",
      "    assert d2.docs != d1.docs\n",
      "AssertionError\n",
      "\n",
      "----------------------------------------------------------------------\n",
      "Ran 6 tests in 0.006s\n",
      "\n",
      "FAILED (failures=2)\n"
     ]
    }
   ],
   "source": [
    "if __name__ == \"__main__\":\n",
    "    unittest.main(argv=[''],verbosity=3,exit=False)"
   ]
  },
  {
   "cell_type": "code",
   "execution_count": null,
   "metadata": {},
   "outputs": [],
   "source": []
  },
  {
   "cell_type": "code",
   "execution_count": null,
   "metadata": {},
   "outputs": [],
   "source": []
  }
 ],
 "metadata": {
  "kernelspec": {
   "display_name": "Python 3",
   "language": "python",
   "name": "python3"
  },
  "language_info": {
   "codemirror_mode": {
    "name": "ipython",
    "version": 3
   },
   "file_extension": ".py",
   "mimetype": "text/x-python",
   "name": "python",
   "nbconvert_exporter": "python",
   "pygments_lexer": "ipython3",
   "version": "3.8.5"
  }
 },
 "nbformat": 4,
 "nbformat_minor": 4
}
