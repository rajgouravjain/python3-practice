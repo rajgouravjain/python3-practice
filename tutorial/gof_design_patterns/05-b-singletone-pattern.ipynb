{
 "cells": [
  {
   "cell_type": "markdown",
   "metadata": {},
   "source": [
    "## Multiple ways to create a Singleton class\n",
    "\n",
    "### https://stackoverflow.com/questions/6760685/creating-a-singleton-in-python"
   ]
  },
  {
   "cell_type": "markdown",
   "metadata": {},
   "source": [
    "### Method : Using Baseclass"
   ]
  },
  {
   "cell_type": "code",
   "execution_count": 23,
   "metadata": {},
   "outputs": [],
   "source": [
    "class Singleton(object):\n",
    "    _instance = None\n",
    "    def __new__(cls,*args,**kwargs):\n",
    "        if not isinstance(cls._instance,cls):\n",
    "            cls._instance = object.__new__(cls, *args, **kwargs)\n",
    "\n",
    "        return cls._instance\n",
    "    \n",
    "class LeaderBoard(Singleton):\n",
    "    _table = {}\n",
    "    @classmethod\n",
    "    def show(cls):\n",
    "        for k,v in cls._table.items():\n",
    "            print(\"Key is : {}, Value is : {} \".format(k,v))\n",
    "    @classmethod\n",
    "    def add_winner(cls,position,player):\n",
    "        cls._table[position] = player\n"
   ]
  },
  {
   "cell_type": "code",
   "execution_count": 26,
   "metadata": {},
   "outputs": [],
   "source": [
    "class Game(object):\n",
    "    def __init__(self):\n",
    "        self.leaderboard = LeaderBoard()\n",
    "    def get(self):\n",
    "        print(self.leaderboard.show())\n",
    "    def add_winner(self,position,name):\n",
    "        self.leaderboard.add_winner(position, name)\n",
    "    "
   ]
  },
  {
   "cell_type": "code",
   "execution_count": 30,
   "metadata": {},
   "outputs": [
    {
     "name": "stdout",
     "output_type": "stream",
     "text": [
      "Key is : 1, Value is : Raj \n",
      "Key is : 2, Value is : Gourav \n",
      "None\n"
     ]
    }
   ],
   "source": [
    "if __name__ == \"__main__\":\n",
    "    g = Game()\n",
    "    g.add_winner(1,\"Raj\")\n",
    "    g.add_winner(2,\"Gourav\")\n",
    "    g.get()"
   ]
  },
  {
   "cell_type": "code",
   "execution_count": null,
   "metadata": {},
   "outputs": [],
   "source": []
  },
  {
   "cell_type": "code",
   "execution_count": null,
   "metadata": {},
   "outputs": [],
   "source": []
  }
 ],
 "metadata": {
  "kernelspec": {
   "display_name": "Python 3",
   "language": "python",
   "name": "python3"
  },
  "language_info": {
   "codemirror_mode": {
    "name": "ipython",
    "version": 3
   },
   "file_extension": ".py",
   "mimetype": "text/x-python",
   "name": "python",
   "nbconvert_exporter": "python",
   "pygments_lexer": "ipython3",
   "version": "3.8.5"
  }
 },
 "nbformat": 4,
 "nbformat_minor": 4
}
