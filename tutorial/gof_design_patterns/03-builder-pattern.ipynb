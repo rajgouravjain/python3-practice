{
 "cells": [
  {
   "cell_type": "code",
   "execution_count": 3,
   "metadata": {},
   "outputs": [],
   "source": [
    "class Car(object):\n",
    "    def __init__(self):\n",
    "        self.wheels = []\n",
    "        self.doors = []\n",
    "        self.body = None\n",
    "        self.engine = None\n",
    "    def set_wheels(self,wheels):\n",
    "        for w in wheels:\n",
    "            self.wheels.append(w)\n",
    "    def set_doors(self, doors):\n",
    "        for d in doors:\n",
    "            self.doors.append(d)\n",
    "    def set_body(self,body):\n",
    "        self.body = body\n",
    "    def set_engine(self, engine):\n",
    "        self.engine = engine\n",
    "\n",
    "class Engine(object):\n",
    "    def __init__(self, horse_power):\n",
    "        self.horse_power = horse_power\n",
    "\n",
    "class Wheel(object):\n",
    "    def __init__(self, radius,material):\n",
    "        self.radius = radius\n",
    "        self.material = material\n",
    "class CarBody(object):\n",
    "    def __init__(self,color,material):\n",
    "        self.color = color\n",
    "        self.material = material\n",
    "        \n",
    "class Door(object):\n",
    "    def __init__(self,hight,width,material):\n",
    "        self.hight = hight\n",
    "        self.width = width\n",
    "        self.material = material\n",
    "\n",
    "        "
   ]
  },
  {
   "cell_type": "code",
   "execution_count": 47,
   "metadata": {},
   "outputs": [],
   "source": [
    "from abc import ABC, abstractmethod\n",
    "class IBuilder(ABC):\n",
    "    @abstractmethod\n",
    "    def get_engine(self):\n",
    "        pass\n",
    "    @abstractmethod\n",
    "    def get_doors(self):\n",
    "        pass\n",
    "    @abstractmethod\n",
    "    def get_wheels(self):\n",
    "        pass\n",
    "    @abstractmethod\n",
    "    def get_body(self):\n",
    "        pass\n",
    "\n",
    "class JeepBuilder(IBuilder):\n",
    "    def __init__(self):\n",
    "        self.name = \"Jeep\"\n",
    "    def get_engine(self):\n",
    "        return Engine(horse_power=230)\n",
    "    def get_wheels(self):\n",
    "        wheels = []\n",
    "        for i in range(0,4):\n",
    "            wheels.append(Wheel(1, \"steel\"))\n",
    "        return wheels\n",
    "    def get_doors(self):\n",
    "        doors = []\n",
    "        for i in range(0,2):\n",
    "            doors.append(Door(2,1,\"molded plastic\"))\n",
    "        return doors\n",
    "    def get_body(self):\n",
    "        return CarBody(\"black\",\"metal\")\n",
    "    \n",
    "class TataBuilder(IBuilder):\n",
    "    def __init__(self):\n",
    "        self.name = \"Safari\"\n",
    "    def get_engine(self):\n",
    "        return Engine(horse_power=500)\n",
    "    def get_wheels(self):\n",
    "        wheels = []\n",
    "        for i in range(0,4):\n",
    "            wheels.append(Wheel(1.5, \"steel\"))\n",
    "        return wheels\n",
    "    def get_doors(self):\n",
    "        doors = []\n",
    "        for i in range(0,2):\n",
    "            doors.append(Door(2,1.5,\"molded plastic\"))\n",
    "        return doors\n",
    "    def get_body(self):\n",
    "        return CarBody(\"blue\",\"metal\")\n"
   ]
  },
  {
   "cell_type": "code",
   "execution_count": 48,
   "metadata": {},
   "outputs": [],
   "source": [
    "class Director(object):\n",
    "    def __init__(self,builder):\n",
    "        self._builder = builder\n",
    "        \n",
    "    def construct(self):\n",
    "        engine = self._builder.get_engine()\n",
    "        doors = self._builder.get_doors()\n",
    "        wheels = self._builder.get_wheels()\n",
    "        body = self._builder.get_body()\n",
    "        \n",
    "        car = Car()\n",
    "        car.set_engine(engine)\n",
    "        car.set_doors(doors)\n",
    "        car.set_body(body)\n",
    "        car.set_wheels(wheels)\n",
    "        return car"
   ]
  },
  {
   "cell_type": "code",
   "execution_count": 49,
   "metadata": {},
   "outputs": [],
   "source": [
    "import pytest\n",
    "import unittest\n",
    "\n",
    "class CarTest(unittest.TestCase):\n",
    "    def test_jeep(self):\n",
    "        director = Director(JeepBuilder())\n",
    "        jeep = director.construct()\n",
    "        assert jeep.wheels[0].radius == 1\n",
    "        assert jeep.wheels[1].radius == 1\n",
    "        assert jeep.wheels[2].radius == 1\n",
    "        assert jeep.wheels[3].radius == 1\n",
    "        assert jeep.body.color == \"black\"\n",
    "        assert jeep.doors[0].width == 1\n",
    "        assert jeep.doors[1].width == 1\n",
    "        assert jeep.engine.horse_power == 230\n",
    "    def test_tata_safari(self):\n",
    "        director = Director(TataBuilder())\n",
    "        tata_safari = director.construct()\n",
    "        assert tata_safari.wheels[0].radius == 1.5\n",
    "        assert tata_safari.wheels[1].radius == 1.5\n",
    "        assert tata_safari.wheels[2].radius == 1.5\n",
    "        assert tata_safari.wheels[3].radius == 1.5\n",
    "        assert tata_safari.body.color == \"blue\"\n",
    "        assert tata_safari.doors[0].width == 1.5\n",
    "        assert tata_safari.doors[1].width == 1.5\n",
    "        assert tata_safari.engine.horse_power == 500"
   ]
  },
  {
   "cell_type": "code",
   "execution_count": 50,
   "metadata": {},
   "outputs": [
    {
     "name": "stderr",
     "output_type": "stream",
     "text": [
      "test_jeep (__main__.CarTest) ... ok\n",
      "test_tata_safari (__main__.CarTest) ... ok\n",
      "\n",
      "----------------------------------------------------------------------\n",
      "Ran 2 tests in 0.002s\n",
      "\n",
      "OK\n"
     ]
    }
   ],
   "source": [
    "if __name__ == \"__main__\":\n",
    "    unittest.main(argv=[''],verbosity=3,exit=False)"
   ]
  },
  {
   "cell_type": "code",
   "execution_count": 1,
   "metadata": {},
   "outputs": [
    {
     "name": "stdout",
     "output_type": "stream",
     "text": [
      "/Users/rajgouravj/codehub/python-practice/gof_design_patterns_practice\n"
     ]
    }
   ],
   "source": [
    "!pwd"
   ]
  },
  {
   "cell_type": "code",
   "execution_count": null,
   "metadata": {},
   "outputs": [],
   "source": []
  }
 ],
 "metadata": {
  "kernelspec": {
   "display_name": "Python 3",
   "language": "python",
   "name": "python3"
  },
  "language_info": {
   "codemirror_mode": {
    "name": "ipython",
    "version": 3
   },
   "file_extension": ".py",
   "mimetype": "text/x-python",
   "name": "python",
   "nbconvert_exporter": "python",
   "pygments_lexer": "ipython3",
   "version": "3.8.5"
  }
 },
 "nbformat": 4,
 "nbformat_minor": 4
}
