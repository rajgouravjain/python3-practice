{
 "cells": [
  {
   "cell_type": "code",
   "execution_count": 53,
   "metadata": {},
   "outputs": [],
   "source": [
    "from abc import ABC, abstractmethod\n",
    "\n",
    "class ITable(ABC):\n",
    "    @abstractmethod\n",
    "    def get_table_dimention(self):\n",
    "        pass\n",
    "\n",
    "class SmallTable(ITable):\n",
    "    def __init__(self):\n",
    "        self.name = \"This is small size table\"\n",
    "        self._hight = 1\n",
    "        self._width = 1\n",
    "        self._length = 1\n",
    "        pass\n",
    "    def get_table_dimention(self):\n",
    "        return self.name, self._hight, self._width, self._length\n",
    "    \n",
    "class MediumTalbe(ITable):\n",
    "    def __init__(self):\n",
    "        self.name = \"This is medium size table\"\n",
    "        self._hight = 2\n",
    "        self._width = 2\n",
    "        self._length = 2\n",
    "    def get_table_dimention(self):\n",
    "        return self.name, self._hight, self._width, self._length"
   ]
  },
  {
   "cell_type": "code",
   "execution_count": 54,
   "metadata": {},
   "outputs": [],
   "source": [
    "class TableFactory(object):\n",
    "    @staticmethod\n",
    "    def create_table(table_type):\n",
    "        if table_type == \"small\":\n",
    "            return SmallTable()\n",
    "        if table_type == \"medium\":\n",
    "            return MediumTalbe()\n",
    "    "
   ]
  },
  {
   "cell_type": "code",
   "execution_count": 55,
   "metadata": {},
   "outputs": [],
   "source": [
    "import unittest\n",
    "import pytest\n",
    "\n",
    "class FactoryTest(unittest.TestCase):\n",
    "    def test_tables(self):\n",
    "        ts = TableFactory.create_table(\"small\")\n",
    "        tm = TableFactory.create_table(\"medium\")\n",
    "        assert ts.get_table_dimention() == ( \"This is small size table\", 1,1,1 )\n",
    "        assert tm.get_table_dimention() == (\"This is medium size table\",2,2,2)\n",
    "        #self.assertTrue(anagram(w1,w2))\n"
   ]
  },
  {
   "cell_type": "code",
   "execution_count": 52,
   "metadata": {},
   "outputs": [
    {
     "name": "stderr",
     "output_type": "stream",
     "text": [
      "test_tables (__main__.FactoryTest) ... ok\n",
      "\n",
      "----------------------------------------------------------------------\n",
      "Ran 1 test in 0.001s\n",
      "\n",
      "OK\n"
     ]
    }
   ],
   "source": [
    "if __name__ == \"__main__\":\n",
    "    \n",
    "    unittest.main(argv=[''], verbosity=2, exit=False)"
   ]
  },
  {
   "cell_type": "code",
   "execution_count": null,
   "metadata": {},
   "outputs": [],
   "source": []
  }
 ],
 "metadata": {
  "kernelspec": {
   "display_name": "Python 3",
   "language": "python",
   "name": "python3"
  },
  "language_info": {
   "codemirror_mode": {
    "name": "ipython",
    "version": 3
   },
   "file_extension": ".py",
   "mimetype": "text/x-python",
   "name": "python",
   "nbconvert_exporter": "python",
   "pygments_lexer": "ipython3",
   "version": "3.8.5"
  }
 },
 "nbformat": 4,
 "nbformat_minor": 4
}
