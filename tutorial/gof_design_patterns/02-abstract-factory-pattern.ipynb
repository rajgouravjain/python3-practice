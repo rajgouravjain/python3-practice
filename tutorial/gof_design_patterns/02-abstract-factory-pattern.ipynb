{
 "cells": [
  {
   "cell_type": "code",
   "execution_count": 73,
   "metadata": {},
   "outputs": [],
   "source": [
    "from abc import ABC, abstractmethod\n",
    "\n",
    "class ITable(ABC):\n",
    "    @abstractmethod\n",
    "    def get_dimentions(self):\n",
    "        pass\n",
    "\n",
    "class SmallTable(ITable):\n",
    "    def __init__(self):\n",
    "        self.name = \"Small Table\"\n",
    "        self._hight = 1\n",
    "        self._width = 1\n",
    "        self._length = 1\n",
    "    def get_dimentions(self):\n",
    "        return self.name, self._hight, self._width, self._length\n",
    "\n",
    "class MediumTable(ITable):\n",
    "    def __init__(self):\n",
    "        self.name = \"Medium Table\"\n",
    "        self._hight = 2\n",
    "        self._width = 2\n",
    "        self._length = 3\n",
    "    def get_dimentions(self):\n",
    "        return self.name, self._hight, self._width, self._length"
   ]
  },
  {
   "cell_type": "code",
   "execution_count": 74,
   "metadata": {},
   "outputs": [],
   "source": [
    "class IChair(ABC):\n",
    "    @abstractmethod\n",
    "    def get_dimentions(self):\n",
    "        pass\n",
    "    \n",
    "class SmallChair(IChair):\n",
    "    def __init__(self):\n",
    "        self.name = \"Small Chair\"\n",
    "        self._hight = 0.5\n",
    "        self._width = 0.5\n",
    "        self._length = 0.5\n",
    "    def get_dimentions(self):\n",
    "        return self.name, self._hight,self._width, self._length\n",
    "\n",
    "class MediumChair(IChair):\n",
    "    def __init__(self):\n",
    "        self.name = \"Medium Chair\"\n",
    "        self._hight = 1\n",
    "        self._width = 1\n",
    "        self._length = 1\n",
    "    def get_dimentions(self):\n",
    "        return self.name, self._hight,self._width, self._length"
   ]
  },
  {
   "cell_type": "code",
   "execution_count": 75,
   "metadata": {},
   "outputs": [],
   "source": [
    "from abc import ABC, abstractmethod\n",
    "\n",
    "class TableFactory(object):\n",
    "    @staticmethod\n",
    "    def create(table_type):\n",
    "        if table_type == \"small\":\n",
    "            return SmallTable()\n",
    "        if table_type == \"medium\":\n",
    "            return MediumTable()\n",
    "\n",
    "class ChairFactory(object):\n",
    "    @staticmethod\n",
    "    def create(chair_type):\n",
    "        if chair_type == \"small\":\n",
    "            return SmallChair()\n",
    "        if chair_type == \"medium\":\n",
    "            return MediumChair()"
   ]
  },
  {
   "cell_type": "code",
   "execution_count": 76,
   "metadata": {},
   "outputs": [],
   "source": [
    "from abc import ABC, abstractmethod\n",
    "\n",
    "class IAbstractFurnitureFactory(ABC):\n",
    "    @abstractmethod\n",
    "    def get_furniture(self):\n",
    "        pass\n",
    "\n",
    "class AbstractFurnitureFactory(IAbstractFurnitureFactory):\n",
    "    \n",
    "    def get_furniture(furniture_type,furniture_size):\n",
    "            furniture_dict = { \"chair\": ChairFactory, \"table\": TableFactory }\n",
    "            return furniture_dict[furniture_type]().create(furniture_size)\n",
    "            \n",
    "        \n",
    "        "
   ]
  },
  {
   "cell_type": "code",
   "execution_count": 79,
   "metadata": {},
   "outputs": [],
   "source": [
    "import pytest\n",
    "import unittest\n",
    "\n",
    "class AbstractFactoryTest(unittest.TestCase):\n",
    "    def test_chairs(self):\n",
    "        sc = AbstractFurnitureFactory.get_furniture(\"chair\",\"small\")\n",
    "        assert sc.get_dimentions() == ( \"Small Chair\", 0.5,0.5, 0.5)\n",
    "        \n",
    "        mc = AbstractFurnitureFactory.get_furniture(\"chair\", \"medium\")\n",
    "        assert mc.get_dimentions() == ( \"Medium Chair\",1,1,1 )\n",
    "    \n",
    "    def test_tables(self):\n",
    "        st = AbstractFurnitureFactory.get_furniture(\"table\",\"small\")\n",
    "        assert st.get_dimentions() == ( \"Small Table\", 1,1,1)\n",
    "        \n",
    "        mt = AbstractFurnitureFactory.get_furniture(\"table\", \"medium\")\n",
    "        assert mt.get_dimentions() == ( \"Medium Table\",2,2,3)"
   ]
  },
  {
   "cell_type": "code",
   "execution_count": 80,
   "metadata": {},
   "outputs": [
    {
     "name": "stderr",
     "output_type": "stream",
     "text": [
      "..\n",
      "----------------------------------------------------------------------\n",
      "Ran 2 tests in 0.002s\n",
      "\n",
      "OK\n"
     ]
    }
   ],
   "source": [
    "if __name__ == '__main__':\n",
    "    unittest.main(argv=[''],exit=False)"
   ]
  },
  {
   "cell_type": "code",
   "execution_count": null,
   "metadata": {},
   "outputs": [],
   "source": []
  },
  {
   "cell_type": "code",
   "execution_count": null,
   "metadata": {},
   "outputs": [],
   "source": []
  }
 ],
 "metadata": {
  "kernelspec": {
   "display_name": "Python 3",
   "language": "python",
   "name": "python3"
  },
  "language_info": {
   "codemirror_mode": {
    "name": "ipython",
    "version": 3
   },
   "file_extension": ".py",
   "mimetype": "text/x-python",
   "name": "python",
   "nbconvert_exporter": "python",
   "pygments_lexer": "ipython3",
   "version": "3.8.5"
  }
 },
 "nbformat": 4,
 "nbformat_minor": 4
}
