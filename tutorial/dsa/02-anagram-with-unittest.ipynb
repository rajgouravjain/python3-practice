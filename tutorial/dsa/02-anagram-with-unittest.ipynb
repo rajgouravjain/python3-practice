{
 "cells": [
  {
   "cell_type": "code",
   "execution_count": 71,
   "metadata": {},
   "outputs": [],
   "source": [
    "def equal(w1,w2):\n",
    "    return w1 == w2\n",
    "\n",
    "def anagram(w1,w2):\n",
    "    w1 = w1.replace(' ','').lower()\n",
    "    w2 = w2.replace(' ','').lower()\n",
    "    return sorted(w1) == sorted(w2)\n",
    "\n",
    "def anagram_dict(w1,w2):\n",
    "    w1 = w1.replace(' ','').lower()\n",
    "    w2 = w2.replace(' ','').lower()\n",
    "    if len(w1) != len(w2):\n",
    "        return False\n",
    "    count1 = {}\n",
    "    for l in w1:\n",
    "        if l in count1:\n",
    "            count1[l] +=1\n",
    "        else: \n",
    "            count1[l] = 1\n",
    "    count2 = {}\n",
    "    for l in w2:\n",
    "        if l in count2:\n",
    "            count2[l] +=1\n",
    "        else:\n",
    "            count2[l]= 1\n",
    "    anagram_bool = True\n",
    "    for k,v in count1.items() :\n",
    "        if k not in count2:\n",
    "            anagram_bool = False\n",
    "        if count2[k] != v :\n",
    "            anagram_bool = False\n",
    "    return anagram_bool"
   ]
  },
  {
   "cell_type": "code",
   "execution_count": 80,
   "metadata": {},
   "outputs": [],
   "source": [
    "import unittest\n",
    "import pytest\n",
    "\n",
    "class MyTest(unittest.TestCase):\n",
    "    def test_equal(self):\n",
    "        assert equal(\"public relations\",\"crap built on lies\")\n",
    "        assert equal(\"hello\",\"hello\")\n",
    "        #self.assertTrue(anagram(w1,w2))\n",
    "class AnagramTest(unittest.TestCase):\n",
    "    def test_anagram(self):\n",
    "        assert anagram(\"hello\",\"HELLO\")\n",
    "        assert anagram(\"He LOL\", \"hello\")\n",
    "        assert anagram(\"public relations\",\"crap built on lies\")\n",
    "        assert anagram(\"Clint eastwood\", \"old west action\")\n",
    "        assert anagram(\"god\",\"dog\")\n",
    "        assert not anagram(\"grid\",\"dig\")\n",
    "\n",
    "class AnagramDictTest(unittest.TestCase):\n",
    "    def test_anagram_dict(self):\n",
    "        assert anagram_dict(\"hello\",\"HELLO\")\n",
    "        assert anagram_dict(\"He LOL\", \"hello\")\n",
    "        assert anagram_dict(\"public relations\",\"crap built on lies\")\n",
    "        assert anagram_dict(\"Clint eastwood\", \"old west action\")\n",
    "        assert anagram_dict(\"god\",\"dog\")\n",
    "        assert not anagram_dict(\"grid\",\"dig\")"
   ]
  },
  {
   "cell_type": "code",
   "execution_count": 79,
   "metadata": {},
   "outputs": [
    {
     "name": "stderr",
     "output_type": "stream",
     "text": [
      "test_anagram_dict (__main__.AnagramDictTest) ... ok\n",
      "test_anagram (__main__.AnagramTest) ... ok\n",
      "test_equal (__main__.MyTest) ... FAIL\n",
      "\n",
      "======================================================================\n",
      "FAIL: test_equal (__main__.MyTest)\n",
      "----------------------------------------------------------------------\n",
      "Traceback (most recent call last):\n",
      "  File \"<ipython-input-78-005bcbccdbe6>\", line 8, in test_equal\n",
      "    assert equal(w1,w2)\n",
      "AssertionError\n",
      "\n",
      "----------------------------------------------------------------------\n",
      "Ran 3 tests in 0.002s\n",
      "\n",
      "FAILED (failures=1)\n"
     ]
    },
    {
     "data": {
      "text/plain": [
       "<unittest.main.TestProgram at 0x1062c1760>"
      ]
     },
     "execution_count": 79,
     "metadata": {},
     "output_type": "execute_result"
    }
   ],
   "source": [
    "unittest.main(argv=[''], verbosity=2, exit=False)"
   ]
  },
  {
   "cell_type": "code",
   "execution_count": null,
   "metadata": {},
   "outputs": [],
   "source": []
  }
 ],
 "metadata": {
  "kernelspec": {
   "display_name": "Python 3",
   "language": "python",
   "name": "python3"
  },
  "language_info": {
   "codemirror_mode": {
    "name": "ipython",
    "version": 3
   },
   "file_extension": ".py",
   "mimetype": "text/x-python",
   "name": "python",
   "nbconvert_exporter": "python",
   "pygments_lexer": "ipython3",
   "version": "3.8.5"
  }
 },
 "nbformat": 4,
 "nbformat_minor": 4
}
