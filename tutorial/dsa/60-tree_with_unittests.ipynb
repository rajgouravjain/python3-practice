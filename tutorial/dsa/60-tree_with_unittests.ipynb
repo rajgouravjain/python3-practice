{
 "cells": [
  {
   "cell_type": "code",
   "execution_count": 13,
   "metadata": {},
   "outputs": [],
   "source": [
    "class BinaryTree(object):\n",
    "    def __init__(self, value):\n",
    "        self.value = value\n",
    "        self.left = None\n",
    "        self.right = None\n",
    "    \n",
    "    def set_child(self,value):\n",
    "        if value <= self.value:\n",
    "            if self.left == None:\n",
    "                self.left = BinaryTree(value)\n",
    "            else:\n",
    "                self.left.set_child(value)\n",
    "        if value > self.value:\n",
    "            if self.right == None:\n",
    "                self.right = BinaryTree(value)\n",
    "            else:\n",
    "                self.right.set_child(value)\n",
    "    def get_left_child(self):\n",
    "        if self.left != None:\n",
    "            return self.left.value\n",
    "        else: \n",
    "            return None\n",
    "    def get_right_child(self):\n",
    "        if self.right != None:\n",
    "            return self.right.value\n",
    "        else:\n",
    "            return None\n",
    "    def breadfirst_traversal(self):\n",
    "        print(\"Data is :{} \".format(self.value))\n",
    "        print(\"Left child is : {}\".format(self.get_left_child()))\n",
    "        print(\"Right child is : {}\".format(self.get_right_child()))\n",
    "        print(\"======================\")      \n",
    "        for l, r in [(self.left, self.right)]:\n",
    "            if l is not None:\n",
    "                print(\"left subtree\")\n",
    "                l.breadfirst_traversal()\n",
    "                \n",
    "            if r is not None:\n",
    "                print(\"right subtree\")\n",
    "                r.breadfirst_traversal()\n",
    "\n",
    "            "
   ]
  },
  {
   "cell_type": "code",
   "execution_count": 14,
   "metadata": {},
   "outputs": [],
   "source": [
    "b = BinaryTree(4)"
   ]
  },
  {
   "cell_type": "code",
   "execution_count": null,
   "metadata": {},
   "outputs": [],
   "source": []
  },
  {
   "cell_type": "code",
   "execution_count": 15,
   "metadata": {},
   "outputs": [],
   "source": [
    "b.set_child(1)\n",
    "b.set_child(2)"
   ]
  },
  {
   "cell_type": "code",
   "execution_count": 16,
   "metadata": {},
   "outputs": [],
   "source": [
    "b.set_child(3)\n",
    "b.set_child(2)"
   ]
  },
  {
   "cell_type": "code",
   "execution_count": 17,
   "metadata": {},
   "outputs": [],
   "source": [
    "b.set_child(5)\n",
    "b.set_child(6)"
   ]
  },
  {
   "cell_type": "code",
   "execution_count": 18,
   "metadata": {},
   "outputs": [
    {
     "name": "stdout",
     "output_type": "stream",
     "text": [
      "Data is :4 \n",
      "Left child is : 1\n",
      "Right child is : 5\n",
      "======================\n",
      "left subtree\n",
      "Data is :1 \n",
      "Left child is : None\n",
      "Right child is : 2\n",
      "======================\n",
      "right subtree\n",
      "Data is :2 \n",
      "Left child is : 2\n",
      "Right child is : 3\n",
      "======================\n",
      "left subtree\n",
      "Data is :2 \n",
      "Left child is : None\n",
      "Right child is : None\n",
      "======================\n",
      "right subtree\n",
      "Data is :3 \n",
      "Left child is : None\n",
      "Right child is : None\n",
      "======================\n",
      "right subtree\n",
      "Data is :5 \n",
      "Left child is : None\n",
      "Right child is : 6\n",
      "======================\n",
      "right subtree\n",
      "Data is :6 \n",
      "Left child is : None\n",
      "Right child is : None\n",
      "======================\n"
     ]
    }
   ],
   "source": [
    "b.breadfirst_traversal()"
   ]
  },
  {
   "cell_type": "code",
   "execution_count": null,
   "metadata": {},
   "outputs": [],
   "source": []
  },
  {
   "cell_type": "code",
   "execution_count": null,
   "metadata": {},
   "outputs": [],
   "source": []
  },
  {
   "cell_type": "code",
   "execution_count": null,
   "metadata": {},
   "outputs": [],
   "source": []
  }
 ],
 "metadata": {
  "kernelspec": {
   "display_name": "Python 3",
   "language": "python",
   "name": "python3"
  },
  "language_info": {
   "codemirror_mode": {
    "name": "ipython",
    "version": 3
   },
   "file_extension": ".py",
   "mimetype": "text/x-python",
   "name": "python",
   "nbconvert_exporter": "python",
   "pygments_lexer": "ipython3",
   "version": "3.8.5"
  }
 },
 "nbformat": 4,
 "nbformat_minor": 4
}
