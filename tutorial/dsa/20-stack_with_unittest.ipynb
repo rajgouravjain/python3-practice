{
 "cells": [
  {
   "cell_type": "code",
   "execution_count": 20,
   "metadata": {},
   "outputs": [],
   "source": [
    "class Stack(object):\n",
    "    def __init__(self):\n",
    "        self.items = []\n",
    "    def peek(self):\n",
    "        return self.items[-1]\n",
    "    def is_empty(self):\n",
    "        return self.size() == 0\n",
    "    def push(self,element):\n",
    "        self.items.append(element)\n",
    "    def pop(self):\n",
    "        element = self.items.pop()\n",
    "        return element\n",
    "    def size(self):\n",
    "        return len(self.items)"
   ]
  },
  {
   "cell_type": "code",
   "execution_count": 21,
   "metadata": {},
   "outputs": [
    {
     "name": "stdout",
     "output_type": "stream",
     "text": [
      "True\n"
     ]
    }
   ],
   "source": [
    "s1 = Stack()\n",
    "print(s1.is_empty())"
   ]
  },
  {
   "cell_type": "code",
   "execution_count": 28,
   "metadata": {},
   "outputs": [],
   "source": [
    "import unittest\n",
    "import pytest\n",
    "\n",
    "class TestStack(unittest.TestCase):\n",
    "    def test_create_stack(self):\n",
    "        s = Stack()\n",
    "        assert s\n",
    "        assert s.is_empty() == True\n",
    "        assert s.size() == 0\n",
    "        s.push(10)\n",
    "        assert s.peek() == 10\n",
    "        assert s.is_empty() == False\n",
    "        assert s.size() == 1\n",
    "        s.push(\"twenty\")\n",
    "        assert s.peek() == \"twenty\"\n",
    "        assert s.size() == 2\n",
    "        assert s.is_empty() == False\n",
    "        s.push(True)\n",
    "        assert s.peek() == True\n",
    "        assert s.size() == 3\n",
    "        assert s.is_empty() == False\n",
    "        \n",
    "        e = s.pop()\n",
    "        assert e == True\n",
    "        assert s.pop() == \"twenty\"\n",
    "        assert s.peek() == 10\n",
    "        assert s.is_empty() == False\n",
    "        assert s.size() == 1"
   ]
  },
  {
   "cell_type": "code",
   "execution_count": 29,
   "metadata": {},
   "outputs": [
    {
     "name": "stderr",
     "output_type": "stream",
     "text": [
      "test_create_stack (__main__.TestStack) ... ok\n",
      "\n",
      "----------------------------------------------------------------------\n",
      "Ran 1 test in 0.001s\n",
      "\n",
      "OK\n"
     ]
    },
    {
     "data": {
      "text/plain": [
       "<unittest.main.TestProgram at 0x112421be0>"
      ]
     },
     "execution_count": 29,
     "metadata": {},
     "output_type": "execute_result"
    }
   ],
   "source": [
    "unittest.main(argv=[''],verbosity=2, exit=False)"
   ]
  },
  {
   "cell_type": "code",
   "execution_count": null,
   "metadata": {},
   "outputs": [],
   "source": []
  },
  {
   "cell_type": "code",
   "execution_count": null,
   "metadata": {},
   "outputs": [],
   "source": []
  }
 ],
 "metadata": {
  "kernelspec": {
   "display_name": "Python 3",
   "language": "python",
   "name": "python3"
  },
  "language_info": {
   "codemirror_mode": {
    "name": "ipython",
    "version": 3
   },
   "file_extension": ".py",
   "mimetype": "text/x-python",
   "name": "python",
   "nbconvert_exporter": "python",
   "pygments_lexer": "ipython3",
   "version": "3.8.3"
  }
 },
 "nbformat": 4,
 "nbformat_minor": 4
}
