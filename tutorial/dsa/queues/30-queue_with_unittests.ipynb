{
 "cells": [
  {
   "cell_type": "code",
   "execution_count": 6,
   "metadata": {},
   "outputs": [],
   "source": [
    "class Queue(object):\n",
    "    def __init__(self):\n",
    "        self.queue = []\n",
    "    def size(self):\n",
    "        return len(self.queue)\n",
    "    def is_empty(self):\n",
    "        return self.queue == []\n",
    "    def peek(self):\n",
    "        if self.size() == 0:\n",
    "            return None\n",
    "        else:\n",
    "            return self.queue[0]\n",
    "    def enqueue(self, element):\n",
    "        self.queue.append(element)\n",
    "    def dequeue(self):\n",
    "        return self.queue.pop(0)\n",
    "    "
   ]
  },
  {
   "cell_type": "code",
   "execution_count": 13,
   "metadata": {},
   "outputs": [],
   "source": [
    "import unittest\n",
    "import pytest\n",
    "\n",
    "class TestQueue(unittest.TestCase):\n",
    "    def test_queue(self):\n",
    "        q = Queue()\n",
    "        assert q.is_empty() == True\n",
    "        assert q.size() == 0\n",
    "        assert q.peek() == None\n",
    "        q.enqueue(10)\n",
    "        assert q.is_empty() == False\n",
    "        assert q.size() == 1\n",
    "        assert q.peek() == 10\n",
    "        \n",
    "        q.enqueue(\"twenty\")\n",
    "        assert q.is_empty() == False\n",
    "        assert q.size() == 2\n",
    "        assert q.peek() == 10\n",
    "        \n",
    "        q.enqueue(True)\n",
    "        assert q.is_empty() == False\n",
    "        assert q.size() == 3\n",
    "        assert q.peek() == 10\n",
    "        \n",
    "        assert q.dequeue() == 10\n",
    "        assert q.is_empty() == False\n",
    "        assert q.size() == 2\n",
    "        assert q.peek() == \"twenty\"\n",
    "\n",
    "        assert q.dequeue() == \"twenty\"\n",
    "        assert q.is_empty() == False\n",
    "        assert q.size() == 1\n",
    "        assert q.peek() == True\n",
    "        \n",
    "        q.dequeue()\n",
    "        assert q.is_empty() == True\n",
    "        assert q.size() == 0\n",
    "        assert q.peek() == None\n",
    "        "
   ]
  },
  {
   "cell_type": "code",
   "execution_count": 14,
   "metadata": {},
   "outputs": [
    {
     "name": "stderr",
     "output_type": "stream",
     "text": [
      "test_queue (__main__.TestQueue) ... ok\n",
      "\n",
      "----------------------------------------------------------------------\n",
      "Ran 1 test in 0.001s\n",
      "\n",
      "OK\n"
     ]
    },
    {
     "data": {
      "text/plain": [
       "<unittest.main.TestProgram at 0x105febb80>"
      ]
     },
     "execution_count": 14,
     "metadata": {},
     "output_type": "execute_result"
    }
   ],
   "source": [
    "unittest.main(argv=[''],verbosity=2,exit=False)"
   ]
  },
  {
   "cell_type": "code",
   "execution_count": null,
   "metadata": {},
   "outputs": [],
   "source": []
  }
 ],
 "metadata": {
  "kernelspec": {
   "display_name": "Python 3 (ipykernel)",
   "language": "python",
   "name": "python3"
  },
  "language_info": {
   "codemirror_mode": {
    "name": "ipython",
    "version": 3
   },
   "file_extension": ".py",
   "mimetype": "text/x-python",
   "name": "python",
   "nbconvert_exporter": "python",
   "pygments_lexer": "ipython3",
   "version": "3.10.0"
  }
 },
 "nbformat": 4,
 "nbformat_minor": 4
}
