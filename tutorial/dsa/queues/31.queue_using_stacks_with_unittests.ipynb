{
 "cells": [
  {
   "cell_type": "code",
   "execution_count": 8,
   "metadata": {},
   "outputs": [],
   "source": [
    "class Stack(object):\n",
    "    def __init__(self):\n",
    "        self.items = []\n",
    "    def peek(self):\n",
    "        return self.items[-1]\n",
    "    def is_empty(self):\n",
    "        return self.size() == 0\n",
    "    def push(self,element):\n",
    "        self.items.append(element)\n",
    "    def pop(self):\n",
    "        element = self.items.pop()\n",
    "        return element\n",
    "    def size(self):\n",
    "        return len(self.items)\n",
    "\n",
    "class Queue2Stack(object):\n",
    "    def __init__(self):\n",
    "        self.stack_l = Stack()\n",
    "        self.stack_r = Stack()\n",
    "        \n",
    "    def size(self):\n",
    "        return self.stack_r.size()\n",
    "    def peek(self):\n",
    "        return self.stack_r.peek()\n",
    "    def is_empty(self):\n",
    "        return self.stack_r.is_empty()\n",
    "    def enqueue(self, element):\n",
    "        while self.stack_r.size() > 0:\n",
    "            self.stack_l.push(self.stack_r.pop())\n",
    "            \n",
    "        self.stack_l.push(element)\n",
    "        \n",
    "        while self.stack_l.size() > 0:\n",
    "            self.stack_r.push(self.stack_l.pop())\n",
    "            \n",
    "    def dequeue(self):\n",
    "        return self.stack_r.pop()\n",
    "    "
   ]
  },
  {
   "cell_type": "code",
   "execution_count": 9,
   "metadata": {},
   "outputs": [],
   "source": [
    "import unittest\n",
    "import pytest\n",
    "\n",
    "class TestQueue(unittest.TestCase):\n",
    "    def test_queue(self):\n",
    "        q = Queue2Stack()\n",
    "        assert q.is_empty() == True\n",
    "        assert q.size() == 0\n",
    "        q.enqueue(10)\n",
    "        assert q.is_empty() == False\n",
    "        assert q.size() == 1\n",
    "        assert q.peek() == 10\n",
    "        \n",
    "        q.enqueue(\"twenty\")\n",
    "        assert q.is_empty() == False\n",
    "        assert q.size() == 2\n",
    "        assert q.peek() == 10\n",
    "        \n",
    "        q.enqueue(True)\n",
    "        assert q.is_empty() == False\n",
    "        assert q.size() == 3\n",
    "        assert q.peek() == 10\n",
    "        \n",
    "        assert q.dequeue() == 10\n",
    "        assert q.is_empty() == False\n",
    "        assert q.size() == 2\n",
    "        assert q.peek() == \"twenty\"\n",
    "\n",
    "        assert q.dequeue() == \"twenty\"\n",
    "        assert q.is_empty() == False\n",
    "        assert q.size() == 1\n",
    "        assert q.peek() == True\n",
    "        \n",
    "        q.dequeue()\n",
    "        assert q.is_empty() == True\n",
    "        assert q.size() == 0"
   ]
  },
  {
   "cell_type": "code",
   "execution_count": 10,
   "metadata": {},
   "outputs": [
    {
     "name": "stderr",
     "output_type": "stream",
     "text": [
      "test_queue (__main__.TestQueue) ... ok\n",
      "\n",
      "----------------------------------------------------------------------\n",
      "Ran 1 test in 0.001s\n",
      "\n",
      "OK\n"
     ]
    },
    {
     "data": {
      "text/plain": [
       "<unittest.main.TestProgram at 0x1075deb80>"
      ]
     },
     "execution_count": 10,
     "metadata": {},
     "output_type": "execute_result"
    }
   ],
   "source": [
    "unittest.main(argv=[''],verbosity=2,exit=False)"
   ]
  },
  {
   "cell_type": "code",
   "execution_count": null,
   "metadata": {},
   "outputs": [],
   "source": []
  }
 ],
 "metadata": {
  "kernelspec": {
   "display_name": "Python 3",
   "language": "python",
   "name": "python3"
  },
  "language_info": {
   "codemirror_mode": {
    "name": "ipython",
    "version": 3
   },
   "file_extension": ".py",
   "mimetype": "text/x-python",
   "name": "python",
   "nbconvert_exporter": "python",
   "pygments_lexer": "ipython3",
   "version": "3.8.3"
  }
 },
 "nbformat": 4,
 "nbformat_minor": 4
}
