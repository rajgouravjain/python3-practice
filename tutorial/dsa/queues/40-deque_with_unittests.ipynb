{
 "cells": [
  {
   "cell_type": "code",
   "execution_count": 7,
   "metadata": {},
   "outputs": [],
   "source": [
    "class Dequeue(object):\n",
    "    def __init__(self):\n",
    "        self.items = []\n",
    "    def rear(self):\n",
    "        if self.size() == 0:\n",
    "            return None\n",
    "        else :\n",
    "            return self.items[-1]\n",
    "    def front(self):\n",
    "        if self.size() == 0:\n",
    "            return None\n",
    "        else :\n",
    "            return self.items[0]\n",
    "    def is_empty(self):\n",
    "        if self.size() == 0:\n",
    "            return True\n",
    "        else :\n",
    "            return len(self.items) == 0\n",
    "    def size(self):\n",
    "        return len(self.items)\n",
    "    def push_rear(self,element):\n",
    "        self.items.append(element)\n",
    "    def push_front(self,element):\n",
    "        self.items.insert(0,element)\n",
    "    def pop_rear(self):\n",
    "        return self.items.pop()\n",
    "    def pop_front(self):\n",
    "        return self.items.pop(0)\n",
    "    \n",
    "    \n",
    "    "
   ]
  },
  {
   "cell_type": "code",
   "execution_count": 12,
   "metadata": {},
   "outputs": [],
   "source": [
    "import pytest\n",
    "import unittest\n",
    "\n",
    "class TestDequeue(unittest.TestCase):\n",
    "    def test_dequeue(self):\n",
    "        q = Dequeue()\n",
    "        assert q.is_empty() == True\n",
    "        assert q.size() == 0\n",
    "        assert q.front() == None\n",
    "        assert q.rear() == None\n",
    "        \n",
    "        q.push_front(10)\n",
    "        q.push_rear(20)\n",
    "        assert q.is_empty() == False\n",
    "        assert q.size() == 2\n",
    "        assert q.front() == 10\n",
    "        assert q.rear() == 20\n",
    "        \n",
    "        q.push_front(True)\n",
    "        q.push_rear(False)\n",
    "        assert q.is_empty() == False\n",
    "        assert q.size() == 4\n",
    "        assert q.front() == True\n",
    "        assert q.rear() == False\n",
    "        \n",
    "        q.push_front(\"ten\")\n",
    "        q.push_rear(\"twenty\")\n",
    "        assert q.is_empty() == False\n",
    "        assert q.size() == 6\n",
    "        assert q.front() == \"ten\"\n",
    "        assert q.rear() == \"twenty\"\n",
    "        \n",
    "        assert \"ten\" == q.pop_front()\n",
    "        assert \"twenty\" == q.pop_rear()\n",
    "        assert q.size() == 4\n",
    "        assert q.is_empty() == False\n",
    "        assert q.front() == True\n",
    "        assert q.rear() == False\n",
    "        \n",
    "        assert True == q.pop_front()\n",
    "        assert False == q.pop_rear()\n",
    "        assert q.size() == 2\n",
    "        assert q.is_empty() == False\n",
    "        assert q.front() == 10\n",
    "        assert q.rear() == 20\n",
    "        \n",
    "        assert 10 == q.pop_front()\n",
    "        assert 20 == q.pop_rear()\n",
    "        assert q.is_empty() == True\n",
    "        assert q.size() == 0\n",
    "        assert q.front() == None\n",
    "        assert q.rear() == None\n",
    "        "
   ]
  },
  {
   "cell_type": "code",
   "execution_count": 13,
   "metadata": {},
   "outputs": [
    {
     "name": "stderr",
     "output_type": "stream",
     "text": [
      "test_dequeue (__main__.TestDequeue) ... ok\n",
      "\n",
      "----------------------------------------------------------------------\n",
      "Ran 1 test in 0.001s\n",
      "\n",
      "OK\n"
     ]
    },
    {
     "data": {
      "text/plain": [
       "<unittest.main.TestProgram at 0x10b9636a0>"
      ]
     },
     "execution_count": 13,
     "metadata": {},
     "output_type": "execute_result"
    }
   ],
   "source": [
    "unittest.main(argv=[''],verbosity=2, exit=False)"
   ]
  },
  {
   "cell_type": "code",
   "execution_count": null,
   "metadata": {},
   "outputs": [],
   "source": []
  }
 ],
 "metadata": {
  "kernelspec": {
   "display_name": "Python 3 (ipykernel)",
   "language": "python",
   "name": "python3"
  },
  "language_info": {
   "codemirror_mode": {
    "name": "ipython",
    "version": 3
   },
   "file_extension": ".py",
   "mimetype": "text/x-python",
   "name": "python",
   "nbconvert_exporter": "python",
   "pygments_lexer": "ipython3",
   "version": "3.10.0"
  }
 },
 "nbformat": 4,
 "nbformat_minor": 4
}
