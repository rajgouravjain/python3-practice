{
 "cells": [
  {
   "cell_type": "markdown",
   "metadata": {
    "colab_type": "text",
    "id": "view-in-github"
   },
   "source": [
    "<a href=\"https://colab.research.google.com/github/rajgouravjain/python3-practice/blob/master/trees/01_tree.ipynb\" target=\"_parent\"><img src=\"https://colab.research.google.com/assets/colab-badge.svg\" alt=\"Open In Colab\"/></a>"
   ]
  },
  {
   "cell_type": "code",
   "execution_count": 16,
   "metadata": {
    "id": "axPNkQr-jBg-"
   },
   "outputs": [],
   "source": [
    "class BinaryTree(object):\n",
    "    def __init__(self,r):\n",
    "        self.data = r\n",
    "        self.left = None\n",
    "        self.right = None\n",
    "    def insert_left(self,data):\n",
    "        if self.left == None:\n",
    "            self.left = BinaryTree(data)\n",
    "        else:\n",
    "            n = BinaryTree(data)\n",
    "            n.left = self.left\n",
    "            self.left = n\n",
    "    def inster_right(self,data):\n",
    "        if self.right == None:\n",
    "            self.right = BinaryTree(data)\n",
    "        else:\n",
    "            n = BinaryTree(data)\n",
    "            n.right = self.right\n",
    "            self.right = n\n",
    "    "
   ]
  },
  {
   "cell_type": "code",
   "execution_count": 19,
   "metadata": {
    "id": "behouIiVjE_9"
   },
   "outputs": [],
   "source": [
    "import unittest\n",
    "import pytest\n",
    "\n",
    "class TestTree(unittest.TestCase):\n",
    "    def setUp(self):\n",
    "        self.t = Tree()\n",
    "    def test_tree_class(self):\n",
    "       assert isinstance(self.t,Tree)\n",
    "       assert type(self.t) is Tree"
   ]
  },
  {
   "cell_type": "code",
   "execution_count": 20,
   "metadata": {},
   "outputs": [
    {
     "name": "stderr",
     "output_type": "stream",
     "text": [
      "test_tree_class (__main__.TestTree) ... ok\n",
      "\n",
      "----------------------------------------------------------------------\n",
      "Ran 1 test in 0.002s\n",
      "\n",
      "OK\n"
     ]
    },
    {
     "data": {
      "text/plain": [
       "<unittest.main.TestProgram at 0x10573c250>"
      ]
     },
     "execution_count": 20,
     "metadata": {},
     "output_type": "execute_result"
    }
   ],
   "source": [
    "unittest.main(argv=[''],verbosity=2,exit=False)"
   ]
  },
  {
   "cell_type": "code",
   "execution_count": null,
   "metadata": {},
   "outputs": [],
   "source": []
  }
 ],
 "metadata": {
  "colab": {
   "authorship_tag": "ABX9TyNbnaaoaBGqtM1evS195PQc",
   "include_colab_link": true,
   "name": "01-tree.ipynb",
   "provenance": []
  },
  "kernelspec": {
   "display_name": "Python 3 (ipykernel)",
   "language": "python",
   "name": "python3"
  },
  "language_info": {
   "codemirror_mode": {
    "name": "ipython",
    "version": 3
   },
   "file_extension": ".py",
   "mimetype": "text/x-python",
   "name": "python",
   "nbconvert_exporter": "python",
   "pygments_lexer": "ipython3",
   "version": "3.10.0"
  }
 },
 "nbformat": 4,
 "nbformat_minor": 4
}
