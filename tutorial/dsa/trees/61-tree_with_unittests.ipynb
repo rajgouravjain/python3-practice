{
 "cells": [
  {
   "cell_type": "code",
   "execution_count": 23,
   "metadata": {},
   "outputs": [],
   "source": [
    "class Node(object):\n",
    "    def __init__(self,value):\n",
    "        self.value = value\n",
    "        self.left = None\n",
    "        self.right = None\n",
    "        self.parent = None\n",
    "    def is_left_child(self):\n",
    "        return self.parent and self.parent.left == self\n",
    "    def is_right_child(self):\n",
    "        return self.parent and self.parent.right == self\n",
    "    \n",
    "    def has_left_child(self):\n",
    "        return self.left\n",
    "    def has_right_child(self):\n",
    "        return self.right\n",
    "    \n",
    "    def get_left_child(self):\n",
    "        if self.left != None:\n",
    "            return self.left.value\n",
    "        else: \n",
    "            return None\n",
    "    def get_right_child(self):\n",
    "        if self.right != None:\n",
    "            return self.right.value\n",
    "        else:\n",
    "            return None\n",
    "\n",
    "class BinaryTree(object):\n",
    "    def __init__(self, value):\n",
    "        self.root = Node(value)\n",
    "        self.size = 0\n",
    "    \n",
    "    def set_left_child(self,value):\n",
    "        node = Node(value)\n",
    "        if self.root.left:\n",
    "            t = self.root.left\n",
    "            t.parent = node\n",
    "            node.left = t\n",
    "\n",
    "            node.parent = self.root\n",
    "            self.root.left = node\n",
    "        else:\n",
    "            node.parent = self.root\n",
    "            self.root.left = node\n",
    "    \n",
    "    def set_right_child(self,value):\n",
    "        node = Node(value)\n",
    "        if self.root.right:\n",
    "            t = self.root.right\n",
    "            t.parent = node\n",
    "            node.right = t\n",
    "\n",
    "            node.parent = self.root\n",
    "            self.root.right = node\n",
    "        else:\n",
    "            node.parent = self.root\n",
    "            self.root.right = node        \n",
    "    def get_root(self):\n",
    "        return self.root\n",
    "    def is_root(self):\n",
    "        return self.parent == None\n",
    "        \n",
    "def breadfirst_traversal(node):\n",
    "        print(\"Data is :{} \".format(node.value))\n",
    "        print(\"Left child is : {}\".format(node.left))\n",
    "        print(\"Right child is : {}\".format(node.right))\n",
    "        print(\"Parent is: {}\".format(node.parent))\n",
    "        print(\"======================\")\n",
    "        \n",
    "        for l, r in [(node.left, node.right)]:\n",
    "            if l is not None:\n",
    "                print(\"left subtree\")\n",
    "                breadfirst_traversal(l)\n",
    "            if r is not None:\n",
    "                print(\"right subtree\")\n",
    "                breadfirst_traversal(r)\n",
    "            \n",
    "            "
   ]
  },
  {
   "cell_type": "code",
   "execution_count": 24,
   "metadata": {},
   "outputs": [],
   "source": [
    "b = BinaryTree(4)"
   ]
  },
  {
   "cell_type": "code",
   "execution_count": null,
   "metadata": {},
   "outputs": [],
   "source": []
  },
  {
   "cell_type": "code",
   "execution_count": 25,
   "metadata": {},
   "outputs": [],
   "source": [
    "b.set_left_child(1)\n",
    "b.set_right_child(2)"
   ]
  },
  {
   "cell_type": "code",
   "execution_count": 26,
   "metadata": {},
   "outputs": [],
   "source": [
    "b.set_left_child(3)\n",
    "b.set_right_child(2)"
   ]
  },
  {
   "cell_type": "code",
   "execution_count": 27,
   "metadata": {},
   "outputs": [],
   "source": [
    "b.set_left_child(5)\n",
    "b.set_right_child(6)"
   ]
  },
  {
   "cell_type": "code",
   "execution_count": 28,
   "metadata": {},
   "outputs": [
    {
     "name": "stdout",
     "output_type": "stream",
     "text": [
      "Data is :4 \n",
      "Left child is : <__main__.Node object at 0x1083759a0>\n",
      "Right child is : <__main__.Node object at 0x108375c40>\n",
      "Parent is: None\n",
      "======================\n",
      "left subtree\n",
      "Data is :5 \n",
      "Left child is : <__main__.Node object at 0x1083752e0>\n",
      "Right child is : None\n",
      "Parent is: <__main__.Node object at 0x108375ca0>\n",
      "======================\n",
      "left subtree\n",
      "Data is :3 \n",
      "Left child is : <__main__.Node object at 0x108375220>\n",
      "Right child is : None\n",
      "Parent is: <__main__.Node object at 0x1083759a0>\n",
      "======================\n",
      "left subtree\n",
      "Data is :1 \n",
      "Left child is : None\n",
      "Right child is : None\n",
      "Parent is: <__main__.Node object at 0x1083752e0>\n",
      "======================\n",
      "right subtree\n",
      "Data is :6 \n",
      "Left child is : None\n",
      "Right child is : <__main__.Node object at 0x1083757f0>\n",
      "Parent is: <__main__.Node object at 0x108375ca0>\n",
      "======================\n",
      "right subtree\n",
      "Data is :2 \n",
      "Left child is : None\n",
      "Right child is : <__main__.Node object at 0x108375670>\n",
      "Parent is: <__main__.Node object at 0x108375c40>\n",
      "======================\n",
      "right subtree\n",
      "Data is :2 \n",
      "Left child is : None\n",
      "Right child is : None\n",
      "Parent is: <__main__.Node object at 0x1083757f0>\n",
      "======================\n"
     ]
    }
   ],
   "source": [
    "breadfirst_traversal(b.get_root())"
   ]
  },
  {
   "cell_type": "code",
   "execution_count": null,
   "metadata": {},
   "outputs": [],
   "source": []
  },
  {
   "cell_type": "code",
   "execution_count": null,
   "metadata": {},
   "outputs": [],
   "source": []
  },
  {
   "cell_type": "code",
   "execution_count": null,
   "metadata": {},
   "outputs": [],
   "source": []
  }
 ],
 "metadata": {
  "kernelspec": {
   "display_name": "Python 3",
   "language": "python",
   "name": "python3"
  },
  "language_info": {
   "codemirror_mode": {
    "name": "ipython",
    "version": 3
   },
   "file_extension": ".py",
   "mimetype": "text/x-python",
   "name": "python",
   "nbconvert_exporter": "python",
   "pygments_lexer": "ipython3",
   "version": "3.8.3"
  }
 },
 "nbformat": 4,
 "nbformat_minor": 4
}
