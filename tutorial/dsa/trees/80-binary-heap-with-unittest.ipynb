{
 "cells": [
  {
   "cell_type": "code",
   "execution_count": null,
   "id": "81dc3fe3-8240-4189-90ab-cff1572106a3",
   "metadata": {},
   "outputs": [],
   "source": [
    "class BinaryHeap(object):\n",
    "    def __init__(self):\n",
    "        self.heap = [0]\n",
    "        self.size = 0\n",
    "    def perc_up(self,i):\n",
    "        pass\n",
    "    def perc_down(self,i):\n",
    "        pass\n",
    "    def insert(self,x):\n",
    "        self.heap.append(x)\n",
    "        self.size += 1\n",
    "        perc_up(self.size)\n",
    "    def del_min(self):\n",
    "        retval = self.heap[1]\n",
    "        self.heap[1] = self.heap.pop()\n",
    "        self.size -= 1\n",
    "        self.perc_down()\n",
    "        return retval\n",
    "    \n",
    "    \n",
    "        "
   ]
  }
 ],
 "metadata": {
  "kernelspec": {
   "display_name": "Python 3 (ipykernel)",
   "language": "python",
   "name": "python3"
  },
  "language_info": {
   "codemirror_mode": {
    "name": "ipython",
    "version": 3
   },
   "file_extension": ".py",
   "mimetype": "text/x-python",
   "name": "python",
   "nbconvert_exporter": "python",
   "pygments_lexer": "ipython3",
   "version": "3.10.0"
  }
 },
 "nbformat": 4,
 "nbformat_minor": 5
}
