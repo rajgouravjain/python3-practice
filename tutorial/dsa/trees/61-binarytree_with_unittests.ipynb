{
 "cells": [
  {
   "cell_type": "code",
   "execution_count": 8,
   "metadata": {},
   "outputs": [],
   "source": [
    "class Node(object):\n",
    "    def __init__(self,value):\n",
    "        self.value = value\n",
    "        self.left = None\n",
    "        self.right = None\n",
    "        self.parent = None\n",
    "    def is_left_child(self):\n",
    "        return self.parent and self.parent.left == self\n",
    "    def is_right_child(self):\n",
    "        return self.parent and self.parent.right == self\n",
    "    \n",
    "    def get_left_child(self):\n",
    "        return self.left\n",
    "    def get_right_child(self):\n",
    "        return self.right\n",
    "    def get_parent(self):\n",
    "        return self.parent\n",
    "    \n",
    "\n",
    "class BinaryTree(object):\n",
    "    def __init__(self, value):\n",
    "        self.root = Node(value)\n",
    "        self.size = 0\n",
    "    \n",
    "    def set_left_child(self,value):\n",
    "        node = Node(value)\n",
    "        if self.root.left:\n",
    "            t = self.root.left\n",
    "            t.parent = node\n",
    "            node.left = t\n",
    "\n",
    "            node.parent = self.root\n",
    "            self.root.left = node\n",
    "        else:\n",
    "            node.parent = self.root\n",
    "            self.root.left = node\n",
    "    \n",
    "    def set_right_child(self,value):\n",
    "        node = Node(value)\n",
    "        if self.root.right:\n",
    "            t = self.root.right\n",
    "            t.parent = node\n",
    "            node.right = t\n",
    "\n",
    "            node.parent = self.root\n",
    "            self.root.right = node\n",
    "        else:\n",
    "            node.parent = self.root\n",
    "            self.root.right = node        \n",
    "    def get_root(self):\n",
    "        return self.root\n",
    "    def is_root(self):\n",
    "        return self.parent == None\n",
    "        \n",
    "def breadfirst_traversal(node):\n",
    "        print(\"Data is :{} \".format(node.value))\n",
    "        print(\"Left child is : {}\".format(node.left))\n",
    "        print(\"Right child is : {}\".format(node.right))\n",
    "        print(\"Parent is: {}\".format(node.parent))\n",
    "        print(\"======================\")\n",
    "        \n",
    "        for l, r in [(node.left, node.right)]:\n",
    "            if l is not None:\n",
    "                print(\"left subtree\")\n",
    "                breadfirst_traversal(l)\n",
    "            if r is not None:\n",
    "                print(\"right subtree\")\n",
    "                breadfirst_traversal(r)\n",
    "            \n",
    "            "
   ]
  },
  {
   "cell_type": "code",
   "execution_count": 9,
   "metadata": {},
   "outputs": [],
   "source": [
    "b = BinaryTree(4)"
   ]
  },
  {
   "cell_type": "code",
   "execution_count": null,
   "metadata": {},
   "outputs": [],
   "source": []
  },
  {
   "cell_type": "code",
   "execution_count": 10,
   "metadata": {},
   "outputs": [],
   "source": [
    "b.set_left_child(1)\n",
    "b.set_right_child(2)"
   ]
  },
  {
   "cell_type": "code",
   "execution_count": 11,
   "metadata": {},
   "outputs": [],
   "source": [
    "b.set_left_child(3)\n",
    "b.set_right_child(2)"
   ]
  },
  {
   "cell_type": "code",
   "execution_count": 12,
   "metadata": {},
   "outputs": [],
   "source": [
    "b.set_left_child(5)\n",
    "b.set_right_child(6)"
   ]
  },
  {
   "cell_type": "code",
   "execution_count": 13,
   "metadata": {},
   "outputs": [
    {
     "name": "stdout",
     "output_type": "stream",
     "text": [
      "Data is :4 \n",
      "Left child is : <__main__.Node object at 0x10c2f9e70>\n",
      "Right child is : <__main__.Node object at 0x10c2f9ed0>\n",
      "Parent is: None\n",
      "======================\n",
      "left subtree\n",
      "Data is :5 \n",
      "Left child is : <__main__.Node object at 0x10c2f87f0>\n",
      "Right child is : None\n",
      "Parent is: <__main__.Node object at 0x10c4656c0>\n",
      "======================\n",
      "left subtree\n",
      "Data is :3 \n",
      "Left child is : <__main__.Node object at 0x10c2f8820>\n",
      "Right child is : None\n",
      "Parent is: <__main__.Node object at 0x10c2f9e70>\n",
      "======================\n",
      "left subtree\n",
      "Data is :1 \n",
      "Left child is : None\n",
      "Right child is : None\n",
      "Parent is: <__main__.Node object at 0x10c2f87f0>\n",
      "======================\n",
      "right subtree\n",
      "Data is :6 \n",
      "Left child is : None\n",
      "Right child is : <__main__.Node object at 0x10c2f9d50>\n",
      "Parent is: <__main__.Node object at 0x10c4656c0>\n",
      "======================\n",
      "right subtree\n",
      "Data is :2 \n",
      "Left child is : None\n",
      "Right child is : <__main__.Node object at 0x10c4678b0>\n",
      "Parent is: <__main__.Node object at 0x10c2f9ed0>\n",
      "======================\n",
      "right subtree\n",
      "Data is :2 \n",
      "Left child is : None\n",
      "Right child is : None\n",
      "Parent is: <__main__.Node object at 0x10c2f9d50>\n",
      "======================\n"
     ]
    }
   ],
   "source": [
    "breadfirst_traversal(b.get_root())"
   ]
  },
  {
   "cell_type": "code",
   "execution_count": null,
   "metadata": {},
   "outputs": [],
   "source": []
  },
  {
   "cell_type": "code",
   "execution_count": null,
   "metadata": {},
   "outputs": [],
   "source": []
  },
  {
   "cell_type": "code",
   "execution_count": null,
   "metadata": {},
   "outputs": [],
   "source": []
  }
 ],
 "metadata": {
  "kernelspec": {
   "display_name": "Python 3 (ipykernel)",
   "language": "python",
   "name": "python3"
  },
  "language_info": {
   "codemirror_mode": {
    "name": "ipython",
    "version": 3
   },
   "file_extension": ".py",
   "mimetype": "text/x-python",
   "name": "python",
   "nbconvert_exporter": "python",
   "pygments_lexer": "ipython3",
   "version": "3.10.0"
  }
 },
 "nbformat": 4,
 "nbformat_minor": 4
}
