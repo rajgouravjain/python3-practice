{
 "cells": [
  {
   "cell_type": "markdown",
   "id": "958a25d3-f3f8-467d-a897-77fb039ef942",
   "metadata": {},
   "source": [
    "# goodrich - tree"
   ]
  },
  {
   "cell_type": "markdown",
   "id": "c2354231-6edb-46d5-a0a7-308ffd679a3c",
   "metadata": {},
   "source": [
    "## abstract base class"
   ]
  },
  {
   "cell_type": "code",
   "execution_count": 82,
   "id": "ed53a3e5-728f-47b8-9875-19c5deec8ad0",
   "metadata": {},
   "outputs": [],
   "source": [
    "from abc import ABC\n",
    "class Tree(ABC):\n",
    "    class Node(ABC):\n",
    "        def element(self):\n",
    "            \"\"\"return data stored in the node\"\"\"\n",
    "            raise NotImplementedError(\"Must be implemented in subclass\")\n",
    "        def __eq__(self,other):\n",
    "            \n",
    "            raise NotImplementedError(\"Must be implemented in subclass\")\n",
    "        def __ne__(self,other):\n",
    "            return not(self == other)\n",
    "        \n",
    "    def root(self):\n",
    "        raise NotImplementedError(\"Must be implemented in subclass\")\n",
    "    def parent(self,node):\n",
    "        raise NotImplementedError(\"Must be implemented in subclass\")\n",
    "    def children(self,node):\n",
    "        raise NotImplementedError(\"Must be implemented in subclass\")\n",
    "        \n",
    "    def num_children(self,node):\n",
    "        raise NotImplementedError(\"Must be implemented in subclass\")\n",
    "    def __len__(self):\n",
    "        raise NotImplementedError(\"Must be implemented in subclass\")\n",
    "        \n",
    "    def is_root(self,node):\n",
    "        return self.root() == node\n",
    "    def is_leaf(self,node):\n",
    "        return self.num_children(node) == 0\n",
    "    def is_empty(self):\n",
    "        return len(self) == 0\n",
    "    \n",
    "    def depth(self, node):\n",
    "        if self.root() == p:\n",
    "            return 0\n",
    "        else :\n",
    "            return 1 + self.depth(self.parent(node))\n",
    "    def _hight(self,n):\n",
    "        \"\"\"Hight of the tree\"\"\"\n",
    "        if self.is_leaf(n) == True:\n",
    "            return 0;\n",
    "        else:\n",
    "            return 1 + max(self._hight(c) for c in self.children(n))\n",
    "    def hight(self,p=None):\n",
    "        if p == None:\n",
    "            p = self.root()\n",
    "        return _hight(p)\n",
    "        "
   ]
  },
  {
   "cell_type": "code",
   "execution_count": 113,
   "id": "7306d5d7-1603-4213-9a80-dbccca2a4c92",
   "metadata": {},
   "outputs": [],
   "source": [
    "class BinaryTree(Tree):\n",
    "    def __init__(self,data):\n",
    "        self.r = self.Node(data)\n",
    "    class Node(Tree.Node):\n",
    "        def __init__(self, data):\n",
    "            self.data = data\n",
    "            self.left = None\n",
    "            self.right = None\n",
    "            self.parent = None\n",
    "        def __str__(self):\n",
    "            if self.data :\n",
    "                return str(self.data)\n",
    "            else:\n",
    "                return None\n",
    "        def __eq__(self,other):\n",
    "            return self.data == other.data\n",
    "        \n",
    "        def _hello(self):\n",
    "            return True\n",
    "    def root(self):\n",
    "        return self.r\n",
    "    def add_left_node(self,data):\n",
    "        n = self.Node(data)\n",
    "        n.left = self.r.left\n",
    "        self.r.left = n\n",
    "        n.parent = self.r\n",
    "        "
   ]
  },
  {
   "cell_type": "code",
   "execution_count": 114,
   "id": "45ff9299-a9a0-420b-a976-401ce5cab33e",
   "metadata": {},
   "outputs": [],
   "source": [
    "b = BinaryTree(\"5\")"
   ]
  },
  {
   "cell_type": "code",
   "execution_count": 135,
   "id": "7039d6d4-11a4-481e-a915-8b4497bb04fb",
   "metadata": {},
   "outputs": [
    {
     "data": {
      "text/plain": [
       "<__main__.BinaryTree.Node at 0x108e218a0>"
      ]
     },
     "execution_count": 135,
     "metadata": {},
     "output_type": "execute_result"
    }
   ],
   "source": [
    "b.root()"
   ]
  },
  {
   "cell_type": "code",
   "execution_count": 143,
   "id": "01f34cb6-4019-47d1-925d-d7fa74faa584",
   "metadata": {},
   "outputs": [],
   "source": [
    "b.add_left_node(3)"
   ]
  },
  {
   "cell_type": "code",
   "execution_count": 159,
   "id": "b434d13b-6573-4bc5-ba17-6ceb3ef5c922",
   "metadata": {},
   "outputs": [
    {
     "name": "stdout",
     "output_type": "stream",
     "text": [
      "3 True\n"
     ]
    }
   ],
   "source": [
    "k = b.r.left.left\n",
    "print(k,isinstance(k.data,int))\n"
   ]
  },
  {
   "cell_type": "code",
   "execution_count": 161,
   "id": "4384763b-8925-4878-991f-2948066f53ce",
   "metadata": {},
   "outputs": [
    {
     "data": {
      "text/plain": [
       "True"
      ]
     },
     "execution_count": 161,
     "metadata": {},
     "output_type": "execute_result"
    }
   ],
   "source": [
    "\"hello\".isalpha()"
   ]
  },
  {
   "cell_type": "code",
   "execution_count": null,
   "id": "d6a25646-197e-4887-ac19-64d4fd04232f",
   "metadata": {},
   "outputs": [],
   "source": []
  }
 ],
 "metadata": {
  "kernelspec": {
   "display_name": "Python 3 (ipykernel)",
   "language": "python",
   "name": "python3"
  },
  "language_info": {
   "codemirror_mode": {
    "name": "ipython",
    "version": 3
   },
   "file_extension": ".py",
   "mimetype": "text/x-python",
   "name": "python",
   "nbconvert_exporter": "python",
   "pygments_lexer": "ipython3",
   "version": "3.10.0"
  }
 },
 "nbformat": 4,
 "nbformat_minor": 5
}
