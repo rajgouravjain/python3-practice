{
 "cells": [
  {
   "cell_type": "code",
   "execution_count": 19,
   "id": "fdcc98f1-d8c1-4201-9b0f-c3e6031bad30",
   "metadata": {},
   "outputs": [],
   "source": [
    "##A Tree using list of lists\n",
    "def Tree(r):\n",
    "    return [r,[],[]]\n",
    "def insert_left(r, new_branch):\n",
    "    t = r.pop(1)\n",
    "    if len(t) > 1:\n",
    "        r.insert(1,[new_branch,t,[]])\n",
    "    else:\n",
    "        r.insert(1,[new_branch, [], []])\n",
    "    return r\n",
    "def insert_right(r,new_branch):\n",
    "    t = r.pop(2)\n",
    "    if len(t) > 1:\n",
    "        r.insert(2,[new_branch, [], t])\n",
    "    else:\n",
    "        r.insert(2,[new_branch,[],[]])"
   ]
  },
  {
   "cell_type": "code",
   "execution_count": 27,
   "id": "ec38c262-191b-4fee-a11d-c0a31207657e",
   "metadata": {},
   "outputs": [],
   "source": [
    "import pytest\n",
    "import unittest\n",
    "\n",
    "class TestTree(unittest.TestCase):\n",
    "    def setUp(self):\n",
    "        self.t = Tree(\"1\")\n",
    "        insert_left(self.t,\"2\")\n",
    "        insert_left(self.t,\"3\")\n",
    "        insert_right(self.t,\"4\")\n",
    "        insert_right(self.t,\"5\")\n",
    "    def test_tree(self):\n",
    "        assert self.t[0] == \"1\"\n",
    "        assert self.t[1][0] == \"3\"\n",
    "        assert self.t[1][1][0] == \"2\"\n",
    "        \n",
    "        assert self.t[2][0] == \"5\"\n",
    "        assert self.t[2][2][0] == \"4\"\n",
    "        \n",
    "        assert self.t == [\"1\", [\"3\", [\"2\",[],[]],[]],[\"5\",[],[\"4\", [],[]]]]"
   ]
  },
  {
   "cell_type": "code",
   "execution_count": 26,
   "id": "6629bf90-281a-4f55-878a-d32b22c417ce",
   "metadata": {},
   "outputs": [
    {
     "name": "stderr",
     "output_type": "stream",
     "text": [
      "test_tree (__main__.TestTree) ... ok\n",
      "\n",
      "----------------------------------------------------------------------\n",
      "Ran 1 test in 0.001s\n",
      "\n",
      "OK\n"
     ]
    },
    {
     "data": {
      "text/plain": [
       "<unittest.main.TestProgram at 0x10ee23220>"
      ]
     },
     "execution_count": 26,
     "metadata": {},
     "output_type": "execute_result"
    }
   ],
   "source": [
    "unittest.main(argv=[''],verbosity=2,exit=False)\n"
   ]
  },
  {
   "cell_type": "code",
   "execution_count": null,
   "id": "79a7575c-7287-4339-9ae9-e59b4d2c14a9",
   "metadata": {},
   "outputs": [],
   "source": []
  }
 ],
 "metadata": {
  "kernelspec": {
   "display_name": "Python 3 (ipykernel)",
   "language": "python",
   "name": "python3"
  },
  "language_info": {
   "codemirror_mode": {
    "name": "ipython",
    "version": 3
   },
   "file_extension": ".py",
   "mimetype": "text/x-python",
   "name": "python",
   "nbconvert_exporter": "python",
   "pygments_lexer": "ipython3",
   "version": "3.10.0"
  }
 },
 "nbformat": 4,
 "nbformat_minor": 5
}
