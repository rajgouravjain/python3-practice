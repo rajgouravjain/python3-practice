{
 "cells": [
  {
   "cell_type": "code",
   "execution_count": 46,
   "metadata": {},
   "outputs": [],
   "source": [
    "class Node(object):\n",
    "    def __init__(self,value):\n",
    "        self.value = value\n",
    "        self.next = None\n",
    "        \n",
    "class SinglyLinkedList(object):\n",
    "    def __init__(self):\n",
    "        self.head = None\n",
    "        self.tail = None\n",
    "        \n",
    "    def add_node_at_head(self,value):\n",
    "        n = Node(value)\n",
    "        if self.head != None:\n",
    "            n.next = self.head\n",
    "        else: \n",
    "            n.next = None\n",
    "            self.tail = n\n",
    "        self.head = n\n",
    "           \n",
    "    def add_node_at_tail(self,value):\n",
    "        n = Node(value)\n",
    "        n.next = None\n",
    "        if self.tail == None:\n",
    "            self.tail = n\n",
    "        else:\n",
    "           t =  self.tail\n",
    "           t.next = n\n",
    "           self.tail = n\n",
    "            \n",
    "    def traverse(self):\n",
    "        li = []\n",
    "        if self.head != None:\n",
    "            n = self.head\n",
    "            li.append(n.value)\n",
    "            while n.next != None:\n",
    "                n = n.next\n",
    "                li.append(n.value)\n",
    "        return li               \n",
    "              "
   ]
  },
  {
   "cell_type": "code",
   "execution_count": 49,
   "metadata": {},
   "outputs": [],
   "source": [
    "import pytest\n",
    "import unittest\n",
    "\n",
    "class TestSinglyLinkedList(unittest.TestCase):\n",
    "    def test_singly_linked_list(self):\n",
    "        s = SinglyLinkedList()\n",
    "        \n",
    "        s.add_node_at_head(\"ten\")\n",
    "        assert s.head.value == \"ten\"\n",
    "        assert s.tail.value == \"ten\"\n",
    "        \n",
    "        s.add_node_at_tail(\"twenty\")\n",
    "        assert s.head.value == \"ten\"\n",
    "        assert s.tail.value == \"twenty\"\n",
    "        \n",
    "        s.add_node_at_head(1)\n",
    "        assert s.head.value == 1\n",
    "        assert s.tail.value == \"twenty\"\n",
    "        \n",
    "        s.add_node_at_tail(True)\n",
    "        assert s.head.value == 1\n",
    "        assert s.tail.value == True\n",
    "        \n",
    "        assert [1, \"ten\",\"twenty\", True] == s.traverse()\n",
    "        "
   ]
  },
  {
   "cell_type": "code",
   "execution_count": 50,
   "metadata": {},
   "outputs": [
    {
     "name": "stderr",
     "output_type": "stream",
     "text": [
      "test_singly_linked_list (__main__.TestSinglyLinkedList) ... ok\n",
      "\n",
      "----------------------------------------------------------------------\n",
      "Ran 1 test in 0.001s\n",
      "\n",
      "OK\n"
     ]
    },
    {
     "data": {
      "text/plain": [
       "<unittest.main.TestProgram at 0x112e74a00>"
      ]
     },
     "execution_count": 50,
     "metadata": {},
     "output_type": "execute_result"
    }
   ],
   "source": [
    "unittest.main(argv=[''],verbosity=3,exit=False)"
   ]
  },
  {
   "cell_type": "code",
   "execution_count": null,
   "metadata": {},
   "outputs": [],
   "source": []
  }
 ],
 "metadata": {
  "kernelspec": {
   "display_name": "Python 3",
   "language": "python",
   "name": "python3"
  },
  "language_info": {
   "codemirror_mode": {
    "name": "ipython",
    "version": 3
   },
   "file_extension": ".py",
   "mimetype": "text/x-python",
   "name": "python",
   "nbconvert_exporter": "python",
   "pygments_lexer": "ipython3",
   "version": "3.8.3"
  }
 },
 "nbformat": 4,
 "nbformat_minor": 4
}
