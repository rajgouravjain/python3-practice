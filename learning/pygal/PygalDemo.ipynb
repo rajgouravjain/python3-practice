{
 "cells": [
  {
   "cell_type": "code",
   "execution_count": 2,
   "metadata": {
    "collapsed": true
   },
   "outputs": [],
   "source": [
    "import pygal\n",
    "\n",
    "xxdata = []\n",
    "xdata = []\n",
    "\n",
    "infile=open('1.txt','r')\n",
    "for data in infile:\n",
    "\txdata.append(int(data.rstrip()))\n",
    "bar_chart = pygal.Bar()                                            # Then create a bar graph object\n",
    "bar_chart.add('Random', xdata)  # Add some values\n",
    "bar_chart.render_to_file('http-response.svg')"
   ]
  },
  {
   "cell_type": "code",
   "execution_count": null,
   "metadata": {
    "collapsed": true
   },
   "outputs": [],
   "source": []
  },
  {
   "cell_type": "code",
   "execution_count": null,
   "metadata": {
    "collapsed": true
   },
   "outputs": [],
   "source": []
  }
 ],
 "metadata": {
  "kernelspec": {
   "display_name": "Python 3",
   "language": "python",
   "name": "python3"
  },
  "language_info": {
   "codemirror_mode": {
    "name": "ipython",
    "version": 3
   },
   "file_extension": ".py",
   "mimetype": "text/x-python",
   "name": "python",
   "nbconvert_exporter": "python",
   "pygments_lexer": "ipython3",
   "version": "3.6.4"
  }
 },
 "nbformat": 4,
 "nbformat_minor": 2
}
