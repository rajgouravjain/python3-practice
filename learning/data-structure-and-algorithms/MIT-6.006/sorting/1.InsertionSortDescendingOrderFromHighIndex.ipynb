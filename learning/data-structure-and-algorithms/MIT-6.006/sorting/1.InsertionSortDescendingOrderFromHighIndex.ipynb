{
 "cells": [
  {
   "cell_type": "markdown",
   "metadata": {},
   "source": [
    "Design and performation of insersion sort :- \n",
    "=============\n",
    "\n",
    "Design of Inserstion sort:- \n",
    "------------------------------\n",
    "\n",
    "You need to insert an element A[i] in either partially sorted left array A[0:i] \\\n",
    "    or partially sorted right array A[i+1,len(A)-1]\n",
    "\n",
    "Performance of Insertion sort:-\n",
    "------------------------------\n",
    "\n",
    "Insersion sort performance is little poor as its an nlog(n) time complexity "
   ]
  },
  {
   "cell_type": "code",
   "execution_count": 1,
   "metadata": {
    "collapsed": true
   },
   "outputs": [],
   "source": [
    "def isSmaller(A,l,r):\n",
    "    if A[l] < A[r]:\n",
    "        return True\n",
    "    else :\n",
    "        return False\n",
    "    pass"
   ]
  },
  {
   "cell_type": "code",
   "execution_count": 2,
   "metadata": {
    "collapsed": true
   },
   "outputs": [],
   "source": [
    "def SwapToRight(A,l,r):\n",
    "    A[l] , A[r] = A[r], A[l]\n",
    "    "
   ]
  },
  {
   "cell_type": "code",
   "execution_count": 3,
   "metadata": {
    "collapsed": true
   },
   "outputs": [],
   "source": [
    "def InsertionSortDescendingOrderFromHighIndex(A):\n",
    "    for  i in range(len(A)-2,-1,-1):\n",
    "        for j in range(i,len(A)-1):\n",
    "            if isSmaller(A,j,j+1):\n",
    "                SwapToRight(A,j,j+1)\n",
    "            else: \n",
    "                pass\n",
    "    return A\n",
    "        "
   ]
  },
  {
   "cell_type": "code",
   "execution_count": 4,
   "metadata": {},
   "outputs": [
    {
     "name": "stdout",
     "output_type": "stream",
     "text": [
      "[9, 8, 6, 6, 5, 4, 3, 2, 2, 1, 0, 0]\n"
     ]
    }
   ],
   "source": [
    "print InsertionSortDescendingOrderFromHighIndex([3,6,2,6,9,0,4,2,1,5,8,0])"
   ]
  },
  {
   "cell_type": "markdown",
   "metadata": {},
   "source": [
    "Lets find time complexity of this algorithm by plotting\n"
   ]
  },
  {
   "cell_type": "code",
   "execution_count": 5,
   "metadata": {
    "collapsed": true
   },
   "outputs": [],
   "source": [
    "import random\n",
    "from timeit import Timer\n",
    "\n",
    "x = range(1000,10000, 2000)\n",
    "t_InsertionsSortPerformance = []\n",
    "\n",
    "\n"
   ]
  },
  {
   "cell_type": "code",
   "execution_count": 6,
   "metadata": {
    "collapsed": true
   },
   "outputs": [],
   "source": [
    "for i in x:\n",
    "    r = [random.random() for _ in xrange(i)]\n",
    "    \n",
    "    t1 = Timer(stmt=\"s=InsertionSortDescendingOrderFromHighIndex(r)\", setup= \"from __main__ import InsertionSortDescendingOrderFromHighIndex, r \") \n",
    "    \n",
    "    t_InsertionsSortPerformance.append(t1.timeit(number=1))\n",
    "    "
   ]
  },
  {
   "cell_type": "code",
   "execution_count": 7,
   "metadata": {},
   "outputs": [
    {
     "data": {
      "image/png": "[encoded data removed]",
      "text/plain": [
       "<matplotlib.figure.Figure at 0xe30bc50>"
      ]
     },
     "metadata": {},
     "output_type": "display_data"
    }
   ],
   "source": [
    "import matplotlib.pyplot as plt\n",
    "\n",
    "plt.figure()\n",
    "\n",
    "plt.plot(x,t_InsertionsSortPerformance, label=\"Insersion Sort\")\n",
    "plt.legend()\n",
    "plt.show()\n"
   ]
  },
  {
   "cell_type": "code",
   "execution_count": 8,
   "metadata": {
    "collapsed": true
   },
   "outputs": [],
   "source": [
    "plt.close()"
   ]
  },
  {
   "cell_type": "code",
   "execution_count": null,
   "metadata": {
    "collapsed": true
   },
   "outputs": [],
   "source": []
  }
 ],
 "metadata": {
  "kernelspec": {
   "display_name": "Python 2",
   "language": "python",
   "name": "python2"
  },
  "language_info": {
   "codemirror_mode": {
    "name": "ipython",
    "version": 2
   },
   "file_extension": ".py",
   "mimetype": "text/x-python",
   "name": "python",
   "nbconvert_exporter": "python",
   "pygments_lexer": "ipython2",
   "version": "2.7.13"
  }
 },
 "nbformat": 4,
 "nbformat_minor": 2
}
