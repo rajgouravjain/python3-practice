{
 "cells": [
  {
   "cell_type": "markdown",
   "metadata": {},
   "source": [
    "Design and performance of Insertion Sort algorithm:\n",
    "==========================\n",
    "\n",
    "Design of Insertion sort:-\n",
    "---------------------------\n",
    "\n",
    "You need to insert an element A[i] in either partially sorted left array A[0:i] \\\n",
    "    or partially sorted right array A[i+1,len(A)-1]\n",
    "\n",
    "Try to create a framwork so that we can use it in future as well\n",
    "\n",
    "Write two functions:\n",
    "1. To compare two element and return if true if left element is bigger than right element\n",
    "2. To swap the element if isBigger comparition is true\n",
    "\n",
    "ex. 4, 5,7,3,8,|2,4,6,68(len(A)-1)\n",
    "\n",
    "Performance of Insertion sort:-\n",
    "----------------------------------\n",
    "\n",
    "Insertion sort's time complexity is nlog(n) order. However space complexity is thetha(1) [constant]. \n",
    "\n"
   ]
  },
  {
   "cell_type": "code",
   "execution_count": 3,
   "metadata": {
    "collapsed": true
   },
   "outputs": [],
   "source": [
    "def isBigger(l,r):\n",
    "    if  l >= r:\n",
    "        return True\n",
    "    else :\n",
    "        return False\n",
    "    \n",
    "    "
   ]
  },
  {
   "cell_type": "code",
   "execution_count": 4,
   "metadata": {
    "collapsed": true
   },
   "outputs": [],
   "source": [
    "def swapToRight(A,l,r):\n",
    "    A[l], A[r] = A[r], A[l]\n",
    "    \n",
    "    \n",
    "   "
   ]
  },
  {
   "cell_type": "code",
   "execution_count": 5,
   "metadata": {
    "collapsed": true
   },
   "outputs": [],
   "source": [
    "def InsertionSortAscendingOrderFromHighIndex(A):\n",
    "    for i in range(len(A)-2,-1, -1):\n",
    "        #print \"I is:\" , i,\"A[i] is: \", A[i]\n",
    "        for j in range(i,len(A)-1):\n",
    "            #print \"J is:\", j\n",
    "            if isBigger(A[j],A[j+1]):\n",
    "                swapToRight(A, j,j+1)\n",
    "                #print \"Swapped \", j , j+1\n",
    "            j = j + 1\n",
    "            #print \"Current A\", A\n",
    "    return A\n",
    "        \n",
    "    \n",
    "        \n",
    "        "
   ]
  },
  {
   "cell_type": "code",
   "execution_count": 6,
   "metadata": {},
   "outputs": [
    {
     "name": "stdout",
     "output_type": "stream",
     "text": [
      "[2, 3, 4, 4, 5, 6, 7, 8, 68]\n"
     ]
    }
   ],
   "source": [
    "print InsertionSortAscendingOrderFromHighIndex([4, 5,7,3,8,2,4,6,68])"
   ]
  },
  {
   "cell_type": "code",
   "execution_count": 7,
   "metadata": {
    "collapsed": true
   },
   "outputs": [],
   "source": [
    "import random\n",
    "from timeit import Timer\n",
    "import matplotlib.pyplot as plt\n"
   ]
  },
  {
   "cell_type": "code",
   "execution_count": 10,
   "metadata": {
    "collapsed": true
   },
   "outputs": [],
   "source": [
    "x  = range(1000,5001,1000)\n",
    "t_InserstionSortAscendingOrder = []"
   ]
  },
  {
   "cell_type": "code",
   "execution_count": 11,
   "metadata": {},
   "outputs": [],
   "source": [
    "for i in x:\n",
    "    r = [random.random() for _ in xrange(i)]\n",
    "    t1 = Timer(stmt=\"InsertionSortAscendingOrderFromHighIndex(r)\", setup=\"from __main__ import InsertionSortAscendingOrderFromHighIndex, r\")\n",
    "    t_InserstionSortAscendingOrder.append(t1.timeit(number=1))"
   ]
  },
  {
   "cell_type": "code",
   "execution_count": 13,
   "metadata": {},
   "outputs": [
    {
     "data": {
      "image/png": "[encoded data removed]",
      "text/plain": [
       "<matplotlib.figure.Figure at 0xf2f69b0>"
      ]
     },
     "metadata": {},
     "output_type": "display_data"
    }
   ],
   "source": [
    "plt.figure()\n",
    "plt.plot(x,t_InserstionSortAscendingOrder, label=\"Insertion sort\")\n",
    "plt.legend()\n",
    "plt.show()\n"
   ]
  },
  {
   "cell_type": "code",
   "execution_count": 14,
   "metadata": {
    "collapsed": true
   },
   "outputs": [],
   "source": [
    "plt.close()"
   ]
  },
  {
   "cell_type": "code",
   "execution_count": null,
   "metadata": {
    "collapsed": true
   },
   "outputs": [],
   "source": []
  }
 ],
 "metadata": {
  "kernelspec": {
   "display_name": "Python 2",
   "language": "python",
   "name": "python2"
  },
  "language_info": {
   "codemirror_mode": {
    "name": "ipython",
    "version": 2
   },
   "file_extension": ".py",
   "mimetype": "text/x-python",
   "name": "python",
   "nbconvert_exporter": "python",
   "pygments_lexer": "ipython2",
   "version": "2.7.13"
  }
 },
 "nbformat": 4,
 "nbformat_minor": 2
}
